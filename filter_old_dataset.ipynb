{
 "cells": [
  {
   "cell_type": "code",
   "execution_count": 4,
   "metadata": {},
   "outputs": [],
   "source": [
    "import pandas as pd\n",
    "import os"
   ]
  },
  {
   "cell_type": "code",
   "execution_count": 7,
   "metadata": {},
   "outputs": [
    {
     "name": "stdout",
     "output_type": "stream",
     "text": [
      "Filtered data has been saved to 'C:\\Users\\isabella.lucchese\\Desktop\\Graduation\\Excel sheets\\Inputs\\Input Amin gives me for MTL\\filtered_output.csv'\n"
     ]
    }
   ],
   "source": [
    "# Replace 'your_file_path.csv' with the actual path to your CSV file\n",
    "input_file_path = r\"C:\\Users\\isabella.lucchese\\Desktop\\Graduation\\Excel sheets\\Inputs\\Input Amin gives me for MTL\\merged_output_SC_2024.csv\"\n",
    "output_file_path = r\"C:\\Users\\isabella.lucchese\\Desktop\\Graduation\\Excel sheets\\Inputs\\Input Amin gives me for MTL\\filtered_output.csv\"\n",
    "\n",
    "# Load the dataset\n",
    "data = pd.read_csv(input_file_path)\n",
    "\n",
    "# Filter out unique building IDs based on the specified thermal columns\n",
    "unique_building_ids = data.drop_duplicates(\n",
    "    subset=['windows_U_Factor', 'groundfloor_thermal_resistance', \n",
    "            'ext_walls_thermal_resistance', 'roof_thermal_resistance'],\n",
    "    keep='first'\n",
    ")['Building ID']\n",
    "\n",
    "# Filter the original data to include only rows for the selected Building IDs\n",
    "filtered_data = data[data['Building ID'].isin(unique_building_ids)]\n",
    "\n",
    "# Save the filtered data to a new CSV file\n",
    "filtered_data.to_csv(output_file_path, index=False)\n",
    "\n",
    "print(f\"Filtered data has been saved to '{output_file_path}'\")\n"
   ]
  }
 ],
 "metadata": {
  "kernelspec": {
   "display_name": "Master-Thesis",
   "language": "python",
   "name": "python3"
  },
  "language_info": {
   "codemirror_mode": {
    "name": "ipython",
    "version": 3
   },
   "file_extension": ".py",
   "mimetype": "text/x-python",
   "name": "python",
   "nbconvert_exporter": "python",
   "pygments_lexer": "ipython3",
   "version": "3.7.12"
  }
 },
 "nbformat": 4,
 "nbformat_minor": 2
}
