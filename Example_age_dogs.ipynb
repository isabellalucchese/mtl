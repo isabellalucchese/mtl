{
 "cells": [
  {
   "cell_type": "code",
   "execution_count": 2,
   "metadata": {},
   "outputs": [],
   "source": [
    "# Import libraries\n",
    "\n",
    "import torch\n",
    "import torch.nn as nn\n",
    "import torch.optim as optim\n"
   ]
  },
  {
   "cell_type": "code",
   "execution_count": 3,
   "metadata": {},
   "outputs": [],
   "source": [
    "# Defining the multi task learning model\n",
    "\n",
    "class MultiTaskModel(nn.Module):\n",
    "    def __init__(self, input_size, hidden_size):\n",
    "        super(MultiTaskModel, self).__init__()\n",
    "        self.shared_layer = nn.Linear(input_size, hidden_size)\n",
    "        self.age_layer = nn.Linear(hidden_size, 1)\n",
    "        self.dogs_layer = nn.Linear(hidden_size, 1)\n",
    "    \n",
    "    def forward(self, x):\n",
    "        shared_output = torch.relu(self.shared_layer(x))\n",
    "        age_output = self.age_layer(shared_output)\n",
    "        dogs_output = self.dogs_layer(shared_output)\n",
    "        return age_output, dogs_output\n"
   ]
  },
  {
   "cell_type": "code",
   "execution_count": 4,
   "metadata": {},
   "outputs": [],
   "source": [
    "# Defining personalized loss function\n",
    "\n",
    "class WeightedLoss(nn.Module):\n",
    "    def __init__(self, weight_age, weight_dogs):\n",
    "        super(WeightedLoss, self).__init__()\n",
    "        self.weight_age = weight_age\n",
    "        self.weight_dogs = weight_dogs\n",
    "        self.mse_loss = nn.MSELoss()\n",
    "    \n",
    "    def forward(self, age_pred, age_true, dogs_pred, dogs_true):\n",
    "        loss_age = self.mse_loss(age_pred, age_true)\n",
    "        loss_dogs = self.mse_loss(dogs_pred, dogs_true)\n",
    "        return self.weight_age * loss_age + self.weight_dogs * loss_dogs\n"
   ]
  },
  {
   "cell_type": "code",
   "execution_count": 5,
   "metadata": {},
   "outputs": [],
   "source": [
    "# Initialize the model, loss function and optimizer\n",
    "\n",
    "input_size = 2    # Numero di caratteristiche di input (età e numero di cani)\n",
    "hidden_size = 5   # Numero di unità nascoste\n",
    "\n",
    "model = MultiTaskModel(input_size, hidden_size)\n",
    "\n",
    "loss_fn = WeightedLoss(weight_age=90, weight_dogs=10)\n",
    "optimizer = optim.Adam(model.parameters(), lr=0.001)\n"
   ]
  },
  {
   "cell_type": "code",
   "execution_count": 6,
   "metadata": {},
   "outputs": [],
   "source": [
    "# Creating a dataset\n",
    "\n",
    "# I nostri dati: [età, numero di cani]\n",
    "data = torch.tensor([\n",
    "    [10, 5],  # Martina\n",
    "    [14, 4],  # Luigi\n",
    "    [40, 8]   # Maria\n",
    "], dtype=torch.float32)\n",
    "\n",
    "# Target: vogliamo minimizzare età e numero di cani\n",
    "target_age = torch.tensor([\n",
    "    [10],\n",
    "    [14],\n",
    "    [40]\n",
    "], dtype=torch.float32)\n",
    "\n",
    "target_dogs = torch.tensor([\n",
    "    [5],\n",
    "    [4],\n",
    "    [8]\n",
    "], dtype=torch.float32)\n"
   ]
  },
  {
   "cell_type": "code",
   "execution_count": 7,
   "metadata": {},
   "outputs": [
    {
     "name": "stdout",
     "output_type": "stream",
     "text": [
      "Epoch [10/100], Loss: 45800.6914\n",
      "Epoch [20/100], Loss: 44710.1445\n",
      "Epoch [30/100], Loss: 43660.8398\n",
      "Epoch [40/100], Loss: 42640.6875\n",
      "Epoch [50/100], Loss: 41636.2031\n",
      "Epoch [60/100], Loss: 40635.8008\n",
      "Epoch [70/100], Loss: 39638.0742\n",
      "Epoch [80/100], Loss: 38659.3516\n",
      "Epoch [90/100], Loss: 37661.2461\n",
      "Epoch [100/100], Loss: 36644.4219\n",
      "Training complete!\n"
     ]
    }
   ],
   "source": [
    "# Training process\n",
    "\n",
    "num_epochs = 100\n",
    "\n",
    "for epoch in range(num_epochs):\n",
    "    age_output, dogs_output = model(data)\n",
    "    loss = loss_fn(age_output, target_age, dogs_output, target_dogs)\n",
    "    optimizer.zero_grad()\n",
    "    loss.backward()\n",
    "    optimizer.step()\n",
    "    \n",
    "    if (epoch+1) % 10 == 0:\n",
    "        print(f'Epoch [{epoch+1}/{num_epochs}], Loss: {loss.item():.4f}')\n",
    "\n",
    "print(\"Training complete!\")\n"
   ]
  },
  {
   "cell_type": "code",
   "execution_count": 8,
   "metadata": {},
   "outputs": [
    {
     "name": "stdout",
     "output_type": "stream",
     "text": [
      "The selected person with the minimum weighted score is: Martina\n"
     ]
    }
   ],
   "source": [
    "# Use the model to select the person\n",
    "\n",
    "model.eval()\n",
    "with torch.no_grad():\n",
    "    age_pred, dogs_pred = model(data)\n",
    "    scores = 90 * age_pred + 10 * dogs_pred\n",
    "    min_index = torch.argmin(scores).item()\n",
    "    selected_person = [\"Martina\", \"Luigi\", \"Maria\"][min_index]\n",
    "\n",
    "print(f\"The selected person with the minimum weighted score is: {selected_person}\")\n"
   ]
  }
 ],
 "metadata": {
  "kernelspec": {
   "display_name": "Master-Thesis",
   "language": "python",
   "name": "python3"
  },
  "language_info": {
   "codemirror_mode": {
    "name": "ipython",
    "version": 3
   },
   "file_extension": ".py",
   "mimetype": "text/x-python",
   "name": "python",
   "nbconvert_exporter": "python",
   "pygments_lexer": "ipython3",
   "version": "3.7.12"
  }
 },
 "nbformat": 4,
 "nbformat_minor": 2
}
