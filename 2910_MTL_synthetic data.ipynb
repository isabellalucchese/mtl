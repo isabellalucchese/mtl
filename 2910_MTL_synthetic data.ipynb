{
 "cells": [
  {
   "cell_type": "markdown",
   "metadata": {},
   "source": [
    "# Import libraries"
   ]
  },
  {
   "cell_type": "code",
   "execution_count": 14,
   "metadata": {},
   "outputs": [],
   "source": [
    "import torch\n",
    "import torch.nn as nn\n",
    "import torch.optim as optim\n",
    "from torch.utils.data import DataLoader, TensorDataset, random_split\n",
    "import numpy as np"
   ]
  },
  {
   "cell_type": "markdown",
   "metadata": {},
   "source": [
    "# Load and Preprocess data\n"
   ]
  },
  {
   "cell_type": "code",
   "execution_count": 16,
   "metadata": {},
   "outputs": [],
   "source": [
    "# Set random seeds for reproducibility\n",
    "np.random.seed(42)\n",
    "torch.manual_seed(42)\n",
    "\n",
    "# Step 1: Generate Synthetic Data (Uncorrelated Patterns for Outputs)\n",
    "num_samples = 1000\n",
    "input_features = 4\n",
    "output_features = 4  # Since we have four continuous outputs\n",
    "\n",
    "# Generate random input data\n",
    "X = np.random.rand(num_samples, input_features)\n",
    "\n",
    "# Generate unrelated random outputs\n",
    "Y = np.random.rand(num_samples, output_features) * 100  # Outputs scaled up for diversity\n",
    "\n",
    "# Convert data to PyTorch tensors\n",
    "X_tensor = torch.tensor(X, dtype=torch.float32)\n",
    "Y_tensor = torch.tensor(Y, dtype=torch.float32)\n",
    "\n",
    "# Create a TensorDataset and DataLoader\n",
    "dataset = TensorDataset(X_tensor, Y_tensor)\n",
    "train_size = int(0.8 * num_samples)\n",
    "test_size = num_samples - train_size\n",
    "train_dataset, test_dataset = random_split(dataset, [train_size, test_size])\n",
    "train_loader = DataLoader(train_dataset, batch_size=32, shuffle=True)\n",
    "test_loader = DataLoader(test_dataset, batch_size=32, shuffle=False)\n",
    "\n",
    "\n"
   ]
  },
  {
   "cell_type": "markdown",
   "metadata": {},
   "source": [
    "# Define MTL model"
   ]
  },
  {
   "cell_type": "code",
   "execution_count": 17,
   "metadata": {},
   "outputs": [],
   "source": [
    "# Step 2: Define the Multi-Task Regression Model\n",
    "class MultiTaskRegressionModel(nn.Module):\n",
    "    def __init__(self, input_dim, shared_dim, task_dim, num_tasks):\n",
    "        super(MultiTaskRegressionModel, self).__init__()\n",
    "        \n",
    "        # Shared layers\n",
    "        self.shared = nn.Sequential(\n",
    "            nn.Linear(input_dim, shared_dim),\n",
    "            nn.ReLU(),\n",
    "            nn.Linear(shared_dim, shared_dim),\n",
    "            nn.ReLU()\n",
    "        )\n",
    "        \n",
    "        # Separate heads for each regression task\n",
    "        self.heads = nn.ModuleList([nn.Linear(shared_dim, task_dim) for _ in range(num_tasks)])\n",
    "\n",
    "    def forward(self, x):\n",
    "        shared_output = self.shared(x)\n",
    "        outputs = [head(shared_output) for head in self.heads]\n",
    "        return torch.cat(outputs, dim=1)\n",
    "\n",
    "# Instantiate the model\n",
    "input_dim = input_features\n",
    "shared_dim = 64\n",
    "task_dim = 1\n",
    "num_tasks = 4\n",
    "model = MultiTaskRegressionModel(input_dim, shared_dim, task_dim, num_tasks)\n",
    "\n"
   ]
  },
  {
   "cell_type": "markdown",
   "metadata": {},
   "source": [
    "# Define Loss function and Optimizer\n"
   ]
  },
  {
   "cell_type": "code",
   "execution_count": 18,
   "metadata": {},
   "outputs": [],
   "source": [
    "# Step 3: Define Loss Function and Optimizer for Regression\n",
    "criterion = nn.MSELoss()  # Mean Squared Error Loss for regression\n",
    "optimizer = optim.Adam(model.parameters(), lr=0.001)"
   ]
  },
  {
   "cell_type": "markdown",
   "metadata": {},
   "source": [
    "# Training loop"
   ]
  },
  {
   "cell_type": "code",
   "execution_count": 19,
   "metadata": {},
   "outputs": [
    {
     "name": "stdout",
     "output_type": "stream",
     "text": [
      "Epoch 1/20, Loss: 3189.6110\n",
      "Epoch 2/20, Loss: 3034.0648\n",
      "Epoch 3/20, Loss: 2653.4546\n",
      "Epoch 4/20, Loss: 1974.2773\n",
      "Epoch 5/20, Loss: 1232.6321\n",
      "Epoch 6/20, Loss: 920.0150\n",
      "Epoch 7/20, Loss: 886.6596\n",
      "Epoch 8/20, Loss: 880.9904\n",
      "Epoch 9/20, Loss: 877.3647\n",
      "Epoch 10/20, Loss: 873.5608\n",
      "Epoch 11/20, Loss: 870.2516\n",
      "Epoch 12/20, Loss: 866.6233\n",
      "Epoch 13/20, Loss: 863.6417\n",
      "Epoch 14/20, Loss: 860.3048\n",
      "Epoch 15/20, Loss: 857.2151\n",
      "Epoch 16/20, Loss: 854.1353\n",
      "Epoch 17/20, Loss: 851.4882\n",
      "Epoch 18/20, Loss: 848.6302\n",
      "Epoch 19/20, Loss: 846.0730\n",
      "Epoch 20/20, Loss: 843.7204\n"
     ]
    }
   ],
   "source": [
    "# Step 4: Training Loop\n",
    "num_epochs = 20\n",
    "for epoch in range(num_epochs):\n",
    "    model.train()\n",
    "    train_loss = 0.0\n",
    "    for X_batch, Y_batch in train_loader:\n",
    "        optimizer.zero_grad()\n",
    "        outputs = model(X_batch)\n",
    "        loss = criterion(outputs, Y_batch)\n",
    "        loss.backward()\n",
    "        optimizer.step()\n",
    "        train_loss += loss.item() * X_batch.size(0)\n",
    "    \n",
    "    train_loss /= train_size\n",
    "    print(f'Epoch {epoch+1}/{num_epochs}, Loss: {train_loss:.4f}')\n",
    "\n"
   ]
  },
  {
   "cell_type": "markdown",
   "metadata": {},
   "source": [
    "# Evaluation on Test Data"
   ]
  },
  {
   "cell_type": "code",
   "execution_count": 22,
   "metadata": {},
   "outputs": [
    {
     "name": "stdout",
     "output_type": "stream",
     "text": [
      "Test Loss: 908.8706\n"
     ]
    }
   ],
   "source": [
    "# Step 5: Evaluation on Test Data\n",
    "model.eval()\n",
    "test_loss = 0.0\n",
    "with torch.no_grad():\n",
    "    for X_batch, Y_batch in test_loader:\n",
    "        outputs = model(X_batch)\n",
    "        loss = criterion(outputs, Y_batch)\n",
    "        test_loss += loss.item() * X_batch.size(0)\n",
    "\n",
    "test_loss /= test_size\n",
    "print(f'Test Loss: {test_loss:.4f}')"
   ]
  },
  {
   "cell_type": "code",
   "execution_count": null,
   "metadata": {},
   "outputs": [],
   "source": []
  }
 ],
 "metadata": {
  "kernelspec": {
   "display_name": "Master-Thesis",
   "language": "python",
   "name": "python3"
  },
  "language_info": {
   "codemirror_mode": {
    "name": "ipython",
    "version": 3
   },
   "file_extension": ".py",
   "mimetype": "text/x-python",
   "name": "python",
   "nbconvert_exporter": "python",
   "pygments_lexer": "ipython3",
   "version": "3.7.12"
  }
 },
 "nbformat": 4,
 "nbformat_minor": 2
}
