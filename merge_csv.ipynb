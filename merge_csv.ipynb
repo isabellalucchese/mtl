{
 "cells": [
  {
   "cell_type": "code",
   "execution_count": 6,
   "metadata": {},
   "outputs": [],
   "source": [
    "import pandas as pd\n",
    "\n",
    "# Carica i due file CSV con la specifica della codifica\n",
    "df1 = pd.read_csv(r'C:\\Users\\isabella.lucchese\\Desktop\\Graduation\\Excel sheets\\Inputs_Try2.csv', encoding='ISO-8859-1')  # Questo file contiene le colonne A e B\n",
    "df2 = pd.read_csv(r'C:\\Users\\isabella.lucchese\\Desktop\\Graduation\\Excel sheets\\Simulations-Annamaria\\action_costs.csv', encoding='ISO-8859-1')  # Questo file contiene la colonna C\n",
    "\n",
    "# Unisci i due DataFrame orizzontalmente\n",
    "df_combined = pd.concat([df1, df2], axis=1)\n",
    "\n",
    "# Salva il risultato in un nuovo CSV\n",
    "df_combined.to_csv(r'C:\\Users\\isabella.lucchese\\Desktop\\Graduation\\Excel sheets\\combined_file.csv', index=False)\n",
    "\n",
    "\n"
   ]
  }
 ],
 "metadata": {
  "kernelspec": {
   "display_name": "Master-Thesis",
   "language": "python",
   "name": "python3"
  },
  "language_info": {
   "codemirror_mode": {
    "name": "ipython",
    "version": 3
   },
   "file_extension": ".py",
   "mimetype": "text/x-python",
   "name": "python",
   "nbconvert_exporter": "python",
   "pygments_lexer": "ipython3",
   "version": "3.7.12"
  }
 },
 "nbformat": 4,
 "nbformat_minor": 2
}
